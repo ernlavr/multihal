{
 "cells": [
  {
   "cell_type": "code",
   "execution_count": 12,
   "metadata": {},
   "outputs": [],
   "source": [
    "# import source code\n",
    "import sys\n",
    "sys.path.append(\"..\")\n",
    "\n",
    "import src.data.datasetloaders as dl\n",
    "\n",
    "import os\n",
    "import sklearn\n",
    "import numpy as np\n",
    "import matplotlib.pyplot as plt\n",
    "import polars as pl\n",
    "import pandas as pd\n",
    "from types import SimpleNamespace\n"
   ]
  },
  {
   "cell_type": "code",
   "execution_count": 13,
   "metadata": {},
   "outputs": [
    {
     "name": "stderr",
     "output_type": "stream",
     "text": [
      "Loading datasets: 100%|██████████| 9/9 [00:00<00:00, 1013.28it/s]"
     ]
    },
    {
     "name": "stdout",
     "output_type": "stream",
     "text": [
      "{'halubench': DatasetDict({\n",
      "    val: Dataset({\n",
      "        features: ['id', 'passage', 'question', 'answer', 'label', 'source_ds', 'task'],\n",
      "        num_rows: 14900\n",
      "    })\n",
      "}), 'drop': DatasetDict({\n",
      "    train: Dataset({\n",
      "        features: ['section_id', 'query_id', 'passage', 'question', 'answers_spans'],\n",
      "        num_rows: 77400\n",
      "    })\n",
      "    val: Dataset({\n",
      "        features: ['section_id', 'query_id', 'passage', 'question', 'answers_spans'],\n",
      "        num_rows: 9535\n",
      "    })\n",
      "})}\n"
     ]
    },
    {
     "name": "stderr",
     "output_type": "stream",
     "text": [
      "\n"
     ]
    }
   ],
   "source": [
    "kwargs = {\n",
    "    'datasets': ['drop', 'halubench']\n",
    "}\n",
    "args = SimpleNamespace(**kwargs)\n",
    "ds = dl.load_data(args)\n",
    "ds['drop']['val'] = ds['drop'].pop('validation')\n",
    "print(ds)"
   ]
  },
  {
   "cell_type": "code",
   "execution_count": 14,
   "metadata": {},
   "outputs": [],
   "source": [
    "multihal = \"multihal_unprocessed.csv\"\n",
    "result_path = os.path.abspath(os.path.join(os.getcwd(),\"..\",\"output\", \"data\",multihal))\n",
    "df = pd.read_csv(result_path)"
   ]
  },
  {
   "cell_type": "code",
   "execution_count": 15,
   "metadata": {},
   "outputs": [
    {
     "data": {
      "text/html": [
       "<div>\n",
       "<style scoped>\n",
       "    .dataframe tbody tr th:only-of-type {\n",
       "        vertical-align: middle;\n",
       "    }\n",
       "\n",
       "    .dataframe tbody tr th {\n",
       "        vertical-align: top;\n",
       "    }\n",
       "\n",
       "    .dataframe thead th {\n",
       "        text-align: right;\n",
       "    }\n",
       "</style>\n",
       "<table border=\"1\" class=\"dataframe\">\n",
       "  <thead>\n",
       "    <tr style=\"text-align: right;\">\n",
       "      <th></th>\n",
       "      <th>id</th>\n",
       "      <th>source_dataset</th>\n",
       "      <th>task</th>\n",
       "      <th>domain</th>\n",
       "      <th>input</th>\n",
       "      <th>output</th>\n",
       "      <th>optional_output</th>\n",
       "      <th>incorrect_answers</th>\n",
       "      <th>context</th>\n",
       "      <th>context_type</th>\n",
       "      <th>domain_encoded</th>\n",
       "    </tr>\n",
       "  </thead>\n",
       "  <tbody>\n",
       "    <tr>\n",
       "      <th>8993</th>\n",
       "      <td>f16c0ee7-f131-4a8b-a6ac-4d275ea68066</td>\n",
       "      <td>halubench</td>\n",
       "      <td>qa</td>\n",
       "      <td>NaN</td>\n",
       "      <td>How many points did the buccaneers need to tie...</td>\n",
       "      <td>7</td>\n",
       "      <td>NaN</td>\n",
       "      <td>NaN</td>\n",
       "      <td>To start the season, the Lions traveled south ...</td>\n",
       "      <td>NaN</td>\n",
       "      <td>1</td>\n",
       "    </tr>\n",
       "  </tbody>\n",
       "</table>\n",
       "</div>"
      ],
      "text/plain": [
       "                                        id source_dataset task domain  \\\n",
       "8993  f16c0ee7-f131-4a8b-a6ac-4d275ea68066      halubench   qa    NaN   \n",
       "\n",
       "                                                  input output  \\\n",
       "8993  How many points did the buccaneers need to tie...      7   \n",
       "\n",
       "     optional_output incorrect_answers  \\\n",
       "8993             NaN               NaN   \n",
       "\n",
       "                                                context  context_type  \\\n",
       "8993  To start the season, the Lions traveled south ...           NaN   \n",
       "\n",
       "      domain_encoded  \n",
       "8993               1  "
      ]
     },
     "execution_count": 15,
     "metadata": {},
     "output_type": "execute_result"
    }
   ],
   "source": [
    "query_id = 'f16c0ee7-f131-4a8b-a6ac-4d275ea68066'\n",
    "df[df['id'] == query_id]"
   ]
  },
  {
   "cell_type": "code",
   "execution_count": 23,
   "metadata": {},
   "outputs": [],
   "source": [
    "drop = ds['drop']['train'].to_pandas()"
   ]
  },
  {
   "cell_type": "code",
   "execution_count": 24,
   "metadata": {},
   "outputs": [
    {
     "data": {
      "text/html": [
       "<div>\n",
       "<style scoped>\n",
       "    .dataframe tbody tr th:only-of-type {\n",
       "        vertical-align: middle;\n",
       "    }\n",
       "\n",
       "    .dataframe tbody tr th {\n",
       "        vertical-align: top;\n",
       "    }\n",
       "\n",
       "    .dataframe thead th {\n",
       "        text-align: right;\n",
       "    }\n",
       "</style>\n",
       "<table border=\"1\" class=\"dataframe\">\n",
       "  <thead>\n",
       "    <tr style=\"text-align: right;\">\n",
       "      <th></th>\n",
       "      <th>section_id</th>\n",
       "      <th>query_id</th>\n",
       "      <th>passage</th>\n",
       "      <th>question</th>\n",
       "      <th>answers_spans</th>\n",
       "    </tr>\n",
       "  </thead>\n",
       "  <tbody>\n",
       "    <tr>\n",
       "      <th>0</th>\n",
       "      <td>nfl_2201</td>\n",
       "      <td>f16c0ee7-f131-4a8b-a6ac-4d275ea68066</td>\n",
       "      <td>To start the season, the Lions traveled south ...</td>\n",
       "      <td>How many points did the buccaneers need to tie...</td>\n",
       "      <td>{'spans': ['3'], 'types': ['number']}</td>\n",
       "    </tr>\n",
       "  </tbody>\n",
       "</table>\n",
       "</div>"
      ],
      "text/plain": [
       "  section_id                              query_id  \\\n",
       "0   nfl_2201  f16c0ee7-f131-4a8b-a6ac-4d275ea68066   \n",
       "\n",
       "                                             passage  \\\n",
       "0  To start the season, the Lions traveled south ...   \n",
       "\n",
       "                                            question  \\\n",
       "0  How many points did the buccaneers need to tie...   \n",
       "\n",
       "                           answers_spans  \n",
       "0  {'spans': ['3'], 'types': ['number']}  "
      ]
     },
     "execution_count": 24,
     "metadata": {},
     "output_type": "execute_result"
    }
   ],
   "source": [
    "drop[drop['query_id'] == query_id]"
   ]
  },
  {
   "cell_type": "code",
   "execution_count": null,
   "metadata": {},
   "outputs": [],
   "source": []
  }
 ],
 "metadata": {
  "kernelspec": {
   "display_name": "Python 3",
   "language": "python",
   "name": "python3"
  },
  "language_info": {
   "codemirror_mode": {
    "name": "ipython",
    "version": 3
   },
   "file_extension": ".py",
   "mimetype": "text/x-python",
   "name": "python",
   "nbconvert_exporter": "python",
   "pygments_lexer": "ipython3",
   "version": "3.11.11"
  }
 },
 "nbformat": 4,
 "nbformat_minor": 2
}
